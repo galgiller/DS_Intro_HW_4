{
 "cells": [
  {
   "cell_type": "markdown",
   "id": "56030615",
   "metadata": {},
   "source": [
    "# Task  4"
   ]
  },
  {
   "cell_type": "markdown",
   "id": "52099b83",
   "metadata": {},
   "source": [
    "### Gal Giller - 209264555"
   ]
  },
  {
   "cell_type": "markdown",
   "id": "43504673",
   "metadata": {},
   "source": [
    "### 1"
   ]
  },
  {
   "cell_type": "code",
   "execution_count": 4,
   "id": "ea5997d4",
   "metadata": {},
   "outputs": [
    {
     "name": "stdout",
     "output_type": "stream",
     "text": [
      "response not in valid JSON format\n",
      "response not in valid JSON format\n",
      "response not in valid JSON format\n",
      "response not in valid JSON format\n",
      "response not in valid JSON format\n",
      "response not in valid JSON format\n",
      "response not in valid JSON format\n",
      "response not in valid JSON format\n",
      "response not in valid JSON format\n",
      "response not in valid JSON format\n"
     ]
    }
   ],
   "source": [
    "import requests\n",
    "\n",
    "destination_dict = {}\n",
    "data = open(\"dests.txt\")\n",
    "#write your api_key:\n",
    "api = 'nvfdknvklrebnkbel'\n",
    "try:\n",
    "    for line in data:\n",
    "        city = line.rstrip('\\n')\n",
    "        url_lat_lng = 'https://maps.googleapis.com/maps/api/geocode/json?address=%s&key=%s' % (city,api)\n",
    "        try:\n",
    "            response = requests.get(url_lat_lng)\n",
    "            if not response.status_code==200:\n",
    "                print(\"HTTP error\",response.status_code)\n",
    "            else:\n",
    "                try:\n",
    "                    response = requests.get(url_lat_lng).json()\n",
    "                    lng = response['results'][0]['geometry']['location']['lng']\n",
    "                    lat = response['results'][0]['geometry']['location']['lat']\n",
    "                except:\n",
    "                    print(\"response not in valid JSON format\")\n",
    "        except:\n",
    "            print(\"Something went wrong with requests.get\")\n",
    "        origin = 'Jerusalem'\n",
    "        url_distance = 'https://maps.googleapis.com/maps/api/distancematrix/json?destinations=%s=&origins=%s&key=%s' % (city,origin,api)\n",
    "        try:\n",
    "            response1 = requests.get(url_distance)\n",
    "            if not response1.status_code==200:\n",
    "                print(\"HTTP error\",response1.status_code)\n",
    "            else:\n",
    "                try:\n",
    "                    response1 = requests.get(url_distance).json()\n",
    "                    dist = response1['rows'][0]['elements'][0]['distance']['text']\n",
    "                    duration = response1['rows'][0]['elements'][0]['duration']['text']\n",
    "                except:\n",
    "                    print(\"response not in valid JSON format\")\n",
    "        except:\n",
    "            print(\"Something went wrong with requests.get\")\n",
    "        destination_dict[city] = (dist,duration,lng,lat)\n",
    "except:\n",
    "    print(\"error\")"
   ]
  },
  {
   "cell_type": "code",
   "execution_count": 5,
   "id": "9826c034",
   "metadata": {},
   "outputs": [
    {
     "name": "stdout",
     "output_type": "stream",
     "text": [
      "Istanbul  :  ('2,105 km', '21 hours 58 mins', 51.53103979999999, 25.2854473)\n",
      "Amsterdam  :  ('2,105 km', '21 hours 58 mins', 51.53103979999999, 25.2854473)\n",
      "Valletta  :  ('2,105 km', '21 hours 58 mins', 51.53103979999999, 25.2854473)\n",
      "Basel  :  ('2,105 km', '21 hours 58 mins', 51.53103979999999, 25.2854473)\n",
      "Doha  :  ('2,105 km', '21 hours 58 mins', 51.53103979999999, 25.2854473)\n"
     ]
    }
   ],
   "source": [
    "for key, value in destination_dict.items():\n",
    "    print(key, ' : ', value)"
   ]
  },
  {
   "cell_type": "code",
   "execution_count": 3,
   "id": "c3ede1d9",
   "metadata": {},
   "outputs": [
    {
     "name": "stdout",
     "output_type": "stream",
     "text": [
      "Furthest cities from Jerusalem : Amsterdam, Basel, Valletta\n"
     ]
    }
   ],
   "source": [
    "destination_dict_sort = sorted([(v,k) for k,v in destination_dict.items()], reverse = True)\n",
    "print(\"Furthest cities from Jerusalem : \" + destination_dict_sort[0][1] + \", \" + destination_dict_sort[1][1] + \", \" + destination_dict_sort[2][1])"
   ]
  },
  {
   "cell_type": "code",
   "execution_count": null,
   "id": "f5c81725",
   "metadata": {},
   "outputs": [],
   "source": []
  }
 ],
 "metadata": {
  "kernelspec": {
   "display_name": "Python 3 (ipykernel)",
   "language": "python",
   "name": "python3"
  },
  "language_info": {
   "codemirror_mode": {
    "name": "ipython",
    "version": 3
   },
   "file_extension": ".py",
   "mimetype": "text/x-python",
   "name": "python",
   "nbconvert_exporter": "python",
   "pygments_lexer": "ipython3",
   "version": "3.9.7"
  }
 },
 "nbformat": 4,
 "nbformat_minor": 5
}
